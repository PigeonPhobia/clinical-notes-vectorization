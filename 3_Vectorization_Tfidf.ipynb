{
 "cells": [
  {
   "cell_type": "code",
   "execution_count": 1,
   "id": "58684051-f433-4c48-ab4a-d51dbf16e694",
   "metadata": {},
   "outputs": [],
   "source": [
    "import numpy as np\n",
    "import pandas as pd\n",
    "\n",
    "from pathlib import Path\n",
    "\n",
    "from src import preprocess"
   ]
  },
  {
   "cell_type": "code",
   "execution_count": 2,
   "id": "e4ebc3d2-d9e3-4af8-b4d3-e2ad07e080b5",
   "metadata": {},
   "outputs": [],
   "source": [
    "%load_ext autoreload\n",
    "%autoreload 2"
   ]
  },
  {
   "cell_type": "code",
   "execution_count": 3,
   "id": "b7c08cfc-ad32-4113-941f-81998efcc8e6",
   "metadata": {},
   "outputs": [],
   "source": [
    "DATA_DIR = \"./data/\"\n",
    "CLINICAL_NOTES_FILE = DATA_DIR + \"ClinNotes.csv\"\n",
    "MEDICAL_CONCEPTS_FILE = DATA_DIR + \"MedicalConcepts.csv\"\n",
    "\n",
    "PROCESSDED_DATA_DIR = './processed_data/'\n",
    "PROCESSED_CLINICAL_NOTES_FILE = PROCESSDED_DATA_DIR + \"ClinNotes.csv\"\n",
    "NORMALIZED_CLINICAL_NOTES_FILE = PROCESSDED_DATA_DIR + \"ClinNotes_normalized.csv\"\n",
    "EXTENDED_CLINICAL_NOTES_FILE = PROCESSDED_DATA_DIR + \"ClinNotes_normalized_extended.csv\"\n",
    "TFIDF_VECTOR_FILE = PROCESSDED_DATA_DIR + 'Tfidf_vector.npy'\n",
    "TFIDF_VOCAB_FILE = PROCESSDED_DATA_DIR + 'Tfidf_vocab.npy'\n",
    "TFIDF_EXTENDED_VECTOR_FILE = PROCESSDED_DATA_DIR + 'Tfidf_extended_vector.npy'\n",
    "TFIDF_EXTENDED_VOCAB_FILE = PROCESSDED_DATA_DIR + 'Tfidf_extended_vocab.npy'"
   ]
  },
  {
   "cell_type": "markdown",
   "id": "60e405cf-0441-48dd-b604-8a17987df3ab",
   "metadata": {},
   "source": [
    "# TF-IDF Vectorization"
   ]
  },
  {
   "cell_type": "markdown",
   "id": "4ae835fd-4e20-439a-a392-3024af3f6e89",
   "metadata": {},
   "source": [
    "In this notebook, we will use TF-IDF to vectorize our clinical notes. It is a simple but good baseline when it comes to document vectorization. Due to the insensitivity to word sequence, we can also integrate the related medical terms into the document vector. Below we will vectorize the normalized clinical notes and notes with extended related medical terms, and save the vectors and the vocabulary to files."
   ]
  },
  {
   "cell_type": "code",
   "execution_count": 4,
   "id": "b9ff6b6f-b041-414e-a5f3-9e3f27ed6e3b",
   "metadata": {},
   "outputs": [],
   "source": [
    "df_clinical_normalized = pd.read_csv(NORMALIZED_CLINICAL_NOTES_FILE)\n",
    "df_clinical_extended = pd.read_csv(EXTENDED_CLINICAL_NOTES_FILE)"
   ]
  },
  {
   "cell_type": "code",
   "execution_count": 5,
   "id": "61966f2b-2697-4844-a9ff-508050c8dfe3",
   "metadata": {},
   "outputs": [],
   "source": [
    "vectors, vocab = preprocess.tfidf_vectorize(df_clinical_normalized['notes'])"
   ]
  },
  {
   "cell_type": "code",
   "execution_count": 6,
   "id": "69575c7b-81dd-401b-936a-ac4565018653",
   "metadata": {},
   "outputs": [],
   "source": [
    "Path(PROCESSDED_DATA_DIR).mkdir(parents=True, exist_ok=True)\n",
    "np.save(TFIDF_VECTOR_FILE, vectors.A)\n",
    "np.save(TFIDF_VOCAB_FILE, vocab)"
   ]
  },
  {
   "cell_type": "code",
   "execution_count": 7,
   "id": "0ac452e1-fb5b-406b-a63e-e3a2c587f8ca",
   "metadata": {},
   "outputs": [],
   "source": [
    "vectors_extended, vocab_extended = preprocess.tfidf_vectorize(df_clinical_extended['notes'])"
   ]
  },
  {
   "cell_type": "code",
   "execution_count": 8,
   "id": "36d94c6d-25b6-4f69-9506-9f84ad282dcd",
   "metadata": {},
   "outputs": [],
   "source": [
    "Path(PROCESSDED_DATA_DIR).mkdir(parents=True, exist_ok=True)\n",
    "np.save(TFIDF_EXTENDED_VECTOR_FILE, vectors_extended.A)\n",
    "np.save(TFIDF_EXTENDED_VOCAB_FILE, vocab_extended)"
   ]
  },
  {
   "cell_type": "code",
   "execution_count": null,
   "id": "838f16fd-7e34-4586-a002-b389be0f503b",
   "metadata": {},
   "outputs": [],
   "source": []
  },
  {
   "cell_type": "code",
   "execution_count": null,
   "id": "296eeb20-5829-4942-95fe-e23b70427cf7",
   "metadata": {},
   "outputs": [],
   "source": []
  }
 ],
 "metadata": {
  "kernelspec": {
   "display_name": "cs5246",
   "language": "python",
   "name": "cs5246"
  },
  "language_info": {
   "codemirror_mode": {
    "name": "ipython",
    "version": 3
   },
   "file_extension": ".py",
   "mimetype": "text/x-python",
   "name": "python",
   "nbconvert_exporter": "python",
   "pygments_lexer": "ipython3",
   "version": "3.9.15"
  }
 },
 "nbformat": 4,
 "nbformat_minor": 5
}
