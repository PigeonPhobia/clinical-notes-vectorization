{
 "cells": [
  {
   "cell_type": "code",
   "execution_count": 1,
   "id": "eaa1c5bc-bef5-4b54-b2e8-3510428a508d",
   "metadata": {},
   "outputs": [],
   "source": [
    "from pathlib import Path\n",
    "\n",
    "import pandas as pd\n",
    "\n",
    "from src import preprocess"
   ]
  },
  {
   "cell_type": "code",
   "execution_count": 2,
   "id": "20906924-c5c7-4b83-8504-750ad6e271cd",
   "metadata": {},
   "outputs": [],
   "source": [
    "%load_ext autoreload\n",
    "%autoreload 2"
   ]
  },
  {
   "cell_type": "code",
   "execution_count": 3,
   "id": "70d2deb1-97f1-4e22-818b-8fae18c16c17",
   "metadata": {},
   "outputs": [],
   "source": [
    "DATA_DIR = \"./data/\"\n",
    "CLINICAL_NOTES_FILE = DATA_DIR + \"ClinNotes.csv\"\n",
    "MEDICAL_CONCEPTS_FILE = DATA_DIR + \"MedicalConcepts.csv\"\n",
    "\n",
    "PROCESSDED_DATA_DIR = './processed_data/'\n",
    "PROCESSED_CLINICAL_NOTES_FILE = PROCESSDED_DATA_DIR + \"ClinNotes.csv\""
   ]
  },
  {
   "cell_type": "code",
   "execution_count": 4,
   "id": "1c59fad2-9228-415e-98d9-a2eb769e4bb8",
   "metadata": {},
   "outputs": [],
   "source": [
    "df_clinical = pd.read_csv(CLINICAL_NOTES_FILE)"
   ]
  },
  {
   "cell_type": "markdown",
   "id": "acc58017-2147-45fc-98da-4bae14f5b442",
   "metadata": {},
   "source": [
    "# Data Understanding"
   ]
  },
  {
   "cell_type": "markdown",
   "id": "99b7d271-0fcb-4c5c-98a4-279547435907",
   "metadata": {},
   "source": [
    "Firstly let's take a look at the csv format."
   ]
  },
  {
   "cell_type": "code",
   "execution_count": 5,
   "id": "afeeda6e-10b7-4f3a-a13a-c6632c1ff84d",
   "metadata": {},
   "outputs": [
    {
     "data": {
      "text/html": [
       "<div>\n",
       "<style scoped>\n",
       "    .dataframe tbody tr th:only-of-type {\n",
       "        vertical-align: middle;\n",
       "    }\n",
       "\n",
       "    .dataframe tbody tr th {\n",
       "        vertical-align: top;\n",
       "    }\n",
       "\n",
       "    .dataframe thead th {\n",
       "        text-align: right;\n",
       "    }\n",
       "</style>\n",
       "<table border=\"1\" class=\"dataframe\">\n",
       "  <thead>\n",
       "    <tr style=\"text-align: right;\">\n",
       "      <th></th>\n",
       "      <th>category</th>\n",
       "      <th>notes</th>\n",
       "    </tr>\n",
       "  </thead>\n",
       "  <tbody>\n",
       "    <tr>\n",
       "      <th>0</th>\n",
       "      <td>Cardiovascular / Pulmonary</td>\n",
       "      <td>2-D M-MODE: , ,1.  Left atrial enlargement wit...</td>\n",
       "    </tr>\n",
       "    <tr>\n",
       "      <th>1</th>\n",
       "      <td>Cardiovascular / Pulmonary</td>\n",
       "      <td>1.  The left ventricular cavity size and wall ...</td>\n",
       "    </tr>\n",
       "    <tr>\n",
       "      <th>2</th>\n",
       "      <td>Cardiovascular / Pulmonary</td>\n",
       "      <td>2-D ECHOCARDIOGRAM,Multiple views of the heart...</td>\n",
       "    </tr>\n",
       "    <tr>\n",
       "      <th>3</th>\n",
       "      <td>Cardiovascular / Pulmonary</td>\n",
       "      <td>DESCRIPTION:,1.  Normal cardiac chambers size....</td>\n",
       "    </tr>\n",
       "    <tr>\n",
       "      <th>4</th>\n",
       "      <td>Cardiovascular / Pulmonary</td>\n",
       "      <td>2-D STUDY,1. Mild aortic stenosis, widely calc...</td>\n",
       "    </tr>\n",
       "  </tbody>\n",
       "</table>\n",
       "</div>"
      ],
      "text/plain": [
       "                     category  \\\n",
       "0  Cardiovascular / Pulmonary   \n",
       "1  Cardiovascular / Pulmonary   \n",
       "2  Cardiovascular / Pulmonary   \n",
       "3  Cardiovascular / Pulmonary   \n",
       "4  Cardiovascular / Pulmonary   \n",
       "\n",
       "                                               notes  \n",
       "0  2-D M-MODE: , ,1.  Left atrial enlargement wit...  \n",
       "1  1.  The left ventricular cavity size and wall ...  \n",
       "2  2-D ECHOCARDIOGRAM,Multiple views of the heart...  \n",
       "3  DESCRIPTION:,1.  Normal cardiac chambers size....  \n",
       "4  2-D STUDY,1. Mild aortic stenosis, widely calc...  "
      ]
     },
     "execution_count": 5,
     "metadata": {},
     "output_type": "execute_result"
    }
   ],
   "source": [
    "df_clinical.head()"
   ]
  },
  {
   "cell_type": "code",
   "execution_count": 6,
   "id": "80ad758c-f49a-4229-ace9-10e9760a9375",
   "metadata": {},
   "outputs": [
    {
     "name": "stdout",
     "output_type": "stream",
     "text": [
      "The dataset contains 818 records.\n"
     ]
    }
   ],
   "source": [
    "print('The dataset contains {} records.'.format(len(df_clinical)))"
   ]
  },
  {
   "cell_type": "markdown",
   "id": "2bffb424-04e8-4900-a90e-ddb33695b33e",
   "metadata": {},
   "source": [
    "Let's take a peek at one specific clinical note."
   ]
  },
  {
   "cell_type": "code",
   "execution_count": 7,
   "id": "455d5186-3660-474b-8c15-ffee9158b174",
   "metadata": {},
   "outputs": [
    {
     "data": {
      "text/plain": [
       "'2-D M-MODE: , ,1.  Left atrial enlargement with left atrial diameter of 4.7 cm.,2.  Normal size right and left ventricle.,3.  Normal LV systolic function with left ventricular ejection fraction of 51%.,4.  Normal LV diastolic function.,5.  No pericardial effusion.,6.  Normal morphology of aortic valve, mitral valve, tricuspid valve, and pulmonary valve.,7.  PA systolic pressure is 36 mmHg.,DOPPLER: , ,1.  Mild mitral and tricuspid regurgitation.,2.  Trace aortic and pulmonary regurgitation.'"
      ]
     },
     "execution_count": 7,
     "metadata": {},
     "output_type": "execute_result"
    }
   ],
   "source": [
    "df_clinical['notes'][0]"
   ]
  },
  {
   "cell_type": "markdown",
   "id": "762b23a4-2f4a-46f3-8a0c-9b05031a2d86",
   "metadata": {},
   "source": [
    "We can observe the data contains more commas than needed. I think this is due to some data normalization steps that are done to collapse properly formatted clinical notes. Let's replace the comma with newline to check out."
   ]
  },
  {
   "cell_type": "code",
   "execution_count": 8,
   "id": "0619a73f-30ac-4150-9471-db14f9f3d15e",
   "metadata": {},
   "outputs": [
    {
     "name": "stdout",
     "output_type": "stream",
     "text": [
      "2-D M-MODE: \n",
      " \n",
      "1.  Left atrial enlargement with left atrial diameter of 4.7 cm.\n",
      "2.  Normal size right and left ventricle.\n",
      "3.  Normal LV systolic function with left ventricular ejection fraction of 51%.\n",
      "4.  Normal LV diastolic function.\n",
      "5.  No pericardial effusion.\n",
      "6.  Normal morphology of aortic valve\n",
      " mitral valve\n",
      " tricuspid valve\n",
      " and pulmonary valve.\n",
      "7.  PA systolic pressure is 36 mmHg.\n",
      "DOPPLER: \n",
      " \n",
      "1.  Mild mitral and tricuspid regurgitation.\n",
      "2.  Trace aortic and pulmonary regurgitation.\n"
     ]
    }
   ],
   "source": [
    "preprocess.print_note(df_clinical['notes'][0])"
   ]
  },
  {
   "cell_type": "markdown",
   "id": "dfd0d802-df9b-4c03-aefe-26f3102bb09b",
   "metadata": {},
   "source": [
    "Basically we can see the format looks nicer in this way despite we match all the commas."
   ]
  },
  {
   "cell_type": "markdown",
   "id": "e711d887-af14-4b47-8001-b01d1987b453",
   "metadata": {},
   "source": [
    "For data understanding, we observe that this dataset containes a small collection (around 800) of clinical notes. It also comes with a extra column describing which category the note is coming from. For the format of the clinical note, we need to perform some extra data cleaning steps. And there is also one notable thing is that the notes contain various numbers, which will impose a very big challenge to vectorization because generally speaking numbers are noise in text without any useful semantic meaning. Some sources of the number are dates, time duration, length or width, blood pressure, medicine concentration and etc."
   ]
  },
  {
   "cell_type": "markdown",
   "id": "39507bae-bb59-4f1a-83fd-b42ea1fb2148",
   "metadata": {},
   "source": [
    "# Data Preprocess"
   ]
  },
  {
   "cell_type": "markdown",
   "id": "a07f92af-4ce5-4191-b592-8434ca4ca044",
   "metadata": {},
   "source": [
    "The clinical notes are written in different formats, and it is hard to parse them in a unified way. But most of them follow a standard that one note is segregated into several sections, each section has an all-caps title and a paragraph of content. In this project, I would like to only extract the content of the notes and discard the titles. The main considerations are as follow:\n",
    "1. The content of each section is quite informative and can be considered as it already covers the semantic meaning of the title.\n",
    "2. We want the vectorization method to be generalized and not all clinical notes are in the this format. Including the titles may give those word frequency based method some advantages. And extrating the content will make our vertorization study more robust and generalized to all scenarios."
   ]
  },
  {
   "cell_type": "markdown",
   "id": "df6ec324-38f8-47a6-9c74-42b7681b34c5",
   "metadata": {},
   "source": [
    "Let's use the regular expression and some pre-defined rules to match the title and try with some examples below."
   ]
  },
  {
   "cell_type": "code",
   "execution_count": 9,
   "id": "eff47157-6a89-47b5-a9b0-4a1f6237ffd5",
   "metadata": {},
   "outputs": [
    {
     "data": {
      "text/plain": [
       "['2-D M-MODE: ', 'DOPPLER: ']"
      ]
     },
     "execution_count": 9,
     "metadata": {},
     "output_type": "execute_result"
    }
   ],
   "source": [
    "preprocess.match_titles(df_clinical['notes'][0])"
   ]
  },
  {
   "cell_type": "code",
   "execution_count": 10,
   "id": "069062eb-4ddf-4814-9a88-71df9d354785",
   "metadata": {},
   "outputs": [
    {
     "data": {
      "text/plain": [
       "['DESCRIPTION:', 'DOPPLER:', 'IMPRESSION:']"
      ]
     },
     "execution_count": 10,
     "metadata": {},
     "output_type": "execute_result"
    }
   ],
   "source": [
    "preprocess.match_titles(df_clinical['notes'][3])"
   ]
  },
  {
   "cell_type": "code",
   "execution_count": 11,
   "id": "c2ee15e8-3d96-44da-a0d9-4c543687c4cb",
   "metadata": {},
   "outputs": [
    {
     "data": {
      "text/plain": [
       "['TIME SEEN: ',\n",
       " 'TOTAL RECORDING TIME: ',\n",
       " 'PATIENT HISTORY: ',\n",
       " 'DESCRIPTION: ',\n",
       " 'CLINICAL INTERPRETATION:  ']"
      ]
     },
     "execution_count": 11,
     "metadata": {},
     "output_type": "execute_result"
    }
   ],
   "source": [
    "preprocess.match_titles(df_clinical['notes'][9])"
   ]
  },
  {
   "cell_type": "markdown",
   "id": "50a64da2-dd77-49fc-810c-23a86ba8dcea",
   "metadata": {},
   "source": [
    "Then we can implement our content extraction method, the basic logic is to firstly extract the titles of the note, and then we only keep the fraction of the notes that are not the titles. Let's use the same notes as examples below."
   ]
  },
  {
   "cell_type": "code",
   "execution_count": 12,
   "id": "0cd58b1c-c15e-449b-b373-0df34c5581dc",
   "metadata": {},
   "outputs": [
    {
     "data": {
      "text/plain": [
       "', ,1.  Left atrial enlargement with left atrial diameter of 4.7 cm.,2.  Normal size right and left ventricle.,3.  Normal LV systolic function with left ventricular ejection fraction of 51%.,4.  Normal LV diastolic function.,5.  No pericardial effusion.,6.  Normal morphology of aortic valve, mitral valve, tricuspid valve, and pulmonary valve.,7.  PA systolic pressure is 36 mmHg.,, ,1.  Mild mitral and tricuspid regurgitation.,2.  Trace aortic and pulmonary regurgitation.'"
      ]
     },
     "execution_count": 12,
     "metadata": {},
     "output_type": "execute_result"
    }
   ],
   "source": [
    "preprocess.extract_content(df_clinical['notes'][0])"
   ]
  },
  {
   "cell_type": "code",
   "execution_count": 13,
   "id": "31c27395-0ba7-4399-baff-7704974766bd",
   "metadata": {},
   "outputs": [
    {
     "data": {
      "text/plain": [
       "',1.  Normal cardiac chambers size.,2.  Normal left ventricular size.,3.  Normal LV systolic function.  Ejection fraction estimated around 60%.,4.  Aortic valve seen with good motion.,5.  Mitral valve seen with good motion.,6.  Tricuspid valve seen with good motion.,7.  No pericardial effusion or intracardiac masses.,,1.  Trace mitral regurgitation.,2.  Trace tricuspid regurgitation.,,1.  Normal LV systolic function.,2.  Ejection fraction estimated around 60%.,'"
      ]
     },
     "execution_count": 13,
     "metadata": {},
     "output_type": "execute_result"
    }
   ],
   "source": [
    "preprocess.extract_content(df_clinical['notes'][3])"
   ]
  },
  {
   "cell_type": "markdown",
   "id": "f85b6427-01be-44fd-a843-9032e19f35dc",
   "metadata": {},
   "source": [
    "Here I did some extra cleaning to also remove the section content if the section title contains 'TIME' or 'DATE', this is mainly because I want to reduce the numbers in the content, which can be challenging for vectorization."
   ]
  },
  {
   "cell_type": "code",
   "execution_count": 14,
   "id": "62ec71d1-0ad3-453f-9930-bd5a075195cd",
   "metadata": {},
   "outputs": [
    {
     "data": {
      "text/plain": [
       "', This is a 43-year-old female with a history of events concerning for seizures.  Video EEG monitoring is performed to capture events and/or identify etiology.,VIDEO EEG DIAGNOSES,1.  AWAKE:  Normal.,2.  SLEEP:  No activation.,3.  CLINICAL EVENTS:  None.,, Approximately 27 hours of continuous 21-channel digital video EEG monitoring was performed.  The waking background is unchanged from that previously reported.  Hyperventilation produced no changes in the resting record.  Photic stimulation failed to elicit a well-developed photic driving response.,Approximately five-and-half hours of spontaneous intermittent sleep was obtained.  Sleep spindles were present and symmetric.,The patient had no clinical events during the recording.,,This is normal video EEG monitoring for a patient of this age.  No interictal epileptiform activity was identified.  The patient had no clinical events during the recording.  Clinical correlation is required.'"
      ]
     },
     "execution_count": 14,
     "metadata": {},
     "output_type": "execute_result"
    }
   ],
   "source": [
    "preprocess.extract_content(df_clinical['notes'][9])"
   ]
  },
  {
   "cell_type": "markdown",
   "id": "d65b5dcc-ecdc-4fa2-a8cd-883d51d02702",
   "metadata": {},
   "source": [
    "Besides removing the dates and times, I also want to remove the numbered index from the content. We can see the outcome of the function below."
   ]
  },
  {
   "cell_type": "code",
   "execution_count": 18,
   "id": "637a2d7e-fb72-4b0b-9a70-4bd920a1487d",
   "metadata": {},
   "outputs": [
    {
     "data": {
      "text/plain": [
       "'DATE OF EXAMINATION: , Start:  12/29/2008 at 1859 hours.  End:  12/30/2008 at 0728 hours.,TOTAL RECORDING TIME:,  12 hours, 29 minutes.,PATIENT HISTORY:,  This is a 46-year-old female with a history of events concerning for seizures.  The patient has a history of epilepsy and has also had non-epileptic events in the past.  Video EEG monitoring is performed to assess whether it is epileptic seizures or non-epileptic events.,VIDEO EEG DIAGNOSES,   Awake:  Normal.,   Sleep:  Activation of a single left temporal spike seen maximally at T3.,   Clinical events:  None.,DESCRIPTION:  ,Approximately 12 hours of continuous 21-channel digital video EEG monitoring was performed.  During the waking state, there is a 9-Hz dominant posterior rhythm.  The background of the record consists primarily of alpha frequency activity.  At times, during the waking portion of the record, there appears to be excessive faster frequency activity.  No activation procedures were performed.,Approximately four hours of intermittent sleep was obtained.  A single left temporal, T3, spike is seen in sleep.  Vertex waves and sleep spindles were present and symmetric.,The patient had no clinical events during the recording.,CLINICAL INTERPRETATION:  ,This is abnormal video EEG monitoring for a patient of this age due to the presence of a single left temporal spike seen during sleep.  The patient had no clinical events during the recording period.  Clinical correlation is required.'"
      ]
     },
     "execution_count": 18,
     "metadata": {},
     "output_type": "execute_result"
    }
   ],
   "source": [
    "preprocess.remove_number_index(df_clinical['notes'][10])"
   ]
  },
  {
   "cell_type": "markdown",
   "id": "3e61fca9-174e-45d5-b3de-5986ddfc3f74",
   "metadata": {},
   "source": [
    "Some extra data cleaning steps include removing extra commas and removing redundant white spaces. After the data cleaning steps, I found some notes become empty strings. For simplicity, I just fill it with some dummy values here. In a more serious context, we may consider to remove those empty notes. With all the data preprocessing and cleaning functions in place, we can batch process our clinical notes data."
   ]
  },
  {
   "cell_type": "code",
   "execution_count": 19,
   "id": "e6ef1a3e-1cf8-41e2-b1e8-75fb948d9921",
   "metadata": {},
   "outputs": [],
   "source": [
    "df_clinical_processed = df_clinical.copy()\n",
    "df_clinical_processed['notes'] = df_clinical_processed['notes'].apply(lambda s: \\\n",
    "    preprocess.fill_empty_note(                                                                  \n",
    "    preprocess.remove_redundant_whitespace( \\\n",
    "    preprocess.remove_commas( \\\n",
    "    preprocess.remove_number_index( \\\n",
    "    preprocess.extract_content(s) \\\n",
    ")))))"
   ]
  },
  {
   "cell_type": "markdown",
   "id": "6b9193a7-9431-4214-ae85-6ec428f9da63",
   "metadata": {},
   "source": [
    "Let's also save them for reusing in later notebooks."
   ]
  },
  {
   "cell_type": "code",
   "execution_count": 20,
   "id": "75085970-3574-4327-a982-39f9fa389c1b",
   "metadata": {},
   "outputs": [],
   "source": [
    "Path(PROCESSDED_DATA_DIR).mkdir(parents=True, exist_ok=True)\n",
    "df_clinical_processed.to_csv(PROCESSED_CLINICAL_NOTES_FILE, index=False)"
   ]
  },
  {
   "cell_type": "code",
   "execution_count": null,
   "id": "aaa6aff9-72ba-499c-8c09-125b7f30d63c",
   "metadata": {},
   "outputs": [],
   "source": []
  }
 ],
 "metadata": {
  "kernelspec": {
   "display_name": "cs5246",
   "language": "python",
   "name": "cs5246"
  },
  "language_info": {
   "codemirror_mode": {
    "name": "ipython",
    "version": 3
   },
   "file_extension": ".py",
   "mimetype": "text/x-python",
   "name": "python",
   "nbconvert_exporter": "python",
   "pygments_lexer": "ipython3",
   "version": "3.9.15"
  }
 },
 "nbformat": 4,
 "nbformat_minor": 5
}
